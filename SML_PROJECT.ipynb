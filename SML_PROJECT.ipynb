{
  "nbformat": 4,
  "nbformat_minor": 0,
  "metadata": {
    "colab": {
      "provenance": []
    },
    "kernelspec": {
      "name": "python3",
      "display_name": "Python 3"
    },
    "language_info": {
      "name": "python"
    }
  },
  "cells": [
    {
      "cell_type": "code",
      "execution_count": 1,
      "metadata": {
        "colab": {
          "base_uri": "https://localhost:8080/"
        },
        "id": "37oWEvmTf0W4",
        "outputId": "c32902e5-2f3e-4af2-fffc-b4e232e15f25"
      },
      "outputs": [
        {
          "output_type": "stream",
          "name": "stdout",
          "text": [
            "Mounted at /content/drive\n"
          ]
        }
      ],
      "source": [
        "from google.colab import drive\n",
        "drive.mount('/content/drive')"
      ]
    },
    {
      "cell_type": "code",
      "source": [
        "import numpy as np\n",
        "import pandas as pd\n",
        "import matplotlib.pyplot as plt\n",
        "import seaborn as sns"
      ],
      "metadata": {
        "id": "GFxAjM8nf3iw"
      },
      "execution_count": 2,
      "outputs": []
    },
    {
      "cell_type": "code",
      "source": [
        "df = pd.read_csv(\"/content/drive/MyDrive/CreditScore.csv\")\n",
        "df.shape"
      ],
      "metadata": {
        "colab": {
          "base_uri": "https://localhost:8080/"
        },
        "id": "8l7wJhvDf3fR",
        "outputId": "ef1210cf-ecd8-40a8-f99c-20367e056ca7"
      },
      "execution_count": 3,
      "outputs": [
        {
          "output_type": "execute_result",
          "data": {
            "text/plain": [
              "(4446, 15)"
            ]
          },
          "metadata": {},
          "execution_count": 3
        }
      ]
    },
    {
      "cell_type": "code",
      "source": [
        "df = df.drop([\"Unnamed: 0\"],axis=1)"
      ],
      "metadata": {
        "id": "7nsnfSKzf3cb"
      },
      "execution_count": 4,
      "outputs": []
    },
    {
      "cell_type": "code",
      "source": [
        "df[\"Status\"] = pd.get_dummies(df[\"Status\"],drop_first=True)\n",
        "df[\"Records\"] = pd.get_dummies(df[\"Records\"],drop_first=True) ##applying one hot encoding on these two features"
      ],
      "metadata": {
        "id": "heGA3t2Af3V3"
      },
      "execution_count": 5,
      "outputs": []
    },
    {
      "cell_type": "code",
      "source": [
        "# Apply Label Encoding for Home, Marital, and Job features\n",
        "home_dict = {\"owner\":5,\"rent\":4,\"parents\":3,\"other\":2,\"priv\":1,\"ignore\":0}\n",
        "df[\"Home\"] = df[\"Home\"].map(home_dict)\n",
        "marital_dict = {\"married\":4,\"single\":3,\"separated\":2,\"widow\":1,\"divorced\":0}\n",
        "df[\"Marital\"] = df[\"Marital\"].map(marital_dict)\n",
        "job_dict = {\"fixed\":3,\"freelance\":2,\"partime\":1,\"others\":0}\n",
        "df[\"Job\"] = df[\"Job\"].map(job_dict)"
      ],
      "metadata": {
        "id": "P_-1Mzqyf3FT"
      },
      "execution_count": 6,
      "outputs": []
    },
    {
      "cell_type": "code",
      "source": [
        "# Identify the independent features(X) and the dependent feature(y)\n",
        "X = df.drop(\"Status\",axis=1)\n",
        "y = df[\"Status\"]"
      ],
      "metadata": {
        "id": "CVuAen_1geMg"
      },
      "execution_count": 7,
      "outputs": []
    },
    {
      "cell_type": "code",
      "source": [
        "from sklearn.model_selection import train_test_split\n",
        "X_train, X_test, y_train, y_test = train_test_split(X, y, test_size=0.3, random_state=0, stratify=y)"
      ],
      "metadata": {
        "id": "Jh2qxYsJgf34"
      },
      "execution_count": 8,
      "outputs": []
    },
    {
      "cell_type": "code",
      "source": [
        "from sklearn.preprocessing import StandardScaler\n",
        "scaler = StandardScaler()\n",
        "X_train = scaler.fit_transform(X_train)\n",
        "X_test = scaler.transform(X_test)"
      ],
      "metadata": {
        "id": "lSRrMp5jgeJJ"
      },
      "execution_count": 9,
      "outputs": []
    },
    {
      "cell_type": "code",
      "source": [
        "from sklearn.ensemble import RandomForestClassifier\n",
        "rf = RandomForestClassifier(n_estimators= 11, criterion=\"entropy\")\n",
        "rf.fit(X_train, y_train)\n",
        "y_pred = rf.predict(X_test)"
      ],
      "metadata": {
        "id": "Q-1guIKlgeGg"
      },
      "execution_count": 10,
      "outputs": []
    },
    {
      "cell_type": "code",
      "source": [
        "from sklearn.metrics import confusion_matrix, ConfusionMatrixDisplay\n",
        "cm_rf = confusion_matrix(y_test, y_pred, labels=rf.classes_)"
      ],
      "metadata": {
        "id": "cAdyVhW4goLV"
      },
      "execution_count": 12,
      "outputs": []
    },
    {
      "cell_type": "code",
      "source": [
        "\n",
        "disp = ConfusionMatrixDisplay(confusion_matrix=cm_rf, display_labels=rf.classes_)\n",
        "disp.plot()\n",
        "TP = 838\n",
        "TN = 181\n",
        "FP = 194\n",
        "FN = 121\n",
        "ACC = (TP + TN) / (TP + TN + FP + FN)\n",
        "print(ACC)\n",
        "TPR = TP / (TP + FN)\n",
        "print(TPR)\n",
        "SP = TN / (FP + TN)\n",
        "print(SP)"
      ],
      "metadata": {
        "colab": {
          "base_uri": "https://localhost:8080/",
          "height": 501
        },
        "id": "6_oLNlnOgn_8",
        "outputId": "d27876b0-3ecc-4388-afff-8dc660fa19c5"
      },
      "execution_count": 13,
      "outputs": [
        {
          "output_type": "stream",
          "name": "stdout",
          "text": [
            "0.7638680659670165\n",
            "0.8738269030239834\n",
            "0.4826666666666667\n"
          ]
        },
        {
          "output_type": "display_data",
          "data": {
            "text/plain": [
              "<Figure size 640x480 with 2 Axes>"
            ],
            "image/png": "[encoded data removed]"
          },
          "metadata": {}
        }
      ]
    },
    {
      "cell_type": "code",
      "source": [
        "from tensorflow.keras.models import Sequential\n",
        "from tensorflow.keras.layers import Dense"
      ],
      "metadata": {
        "id": "pt9AsE-Rgs-I"
      },
      "execution_count": 14,
      "outputs": []
    },
    {
      "cell_type": "code",
      "source": [
        " model = Sequential()"
      ],
      "metadata": {
        "id": "TWJVtvL_gs41"
      },
      "execution_count": 15,
      "outputs": []
    },
    {
      "cell_type": "code",
      "source": [
        "# Create an Input and a Hidden Layer\n",
        "model.add(Dense(units=50,activation=\"relu\",kernel_initializer=\"he_uniform\"))"
      ],
      "metadata": {
        "id": "h0x2Mx6Ugs0L"
      },
      "execution_count": 16,
      "outputs": []
    },
    {
      "cell_type": "code",
      "source": [
        "# Create an Output Layer\n",
        "model.add(Dense(units=1,activation=\"sigmoid\"))"
      ],
      "metadata": {
        "id": "UJXmRTDvgswp"
      },
      "execution_count": 17,
      "outputs": []
    },
    {
      "cell_type": "code",
      "source": [
        "# Now, my model is ready to compile\n",
        "model.compile(optimizer=\"adam\",loss=\"binary_crossentropy\",metrics=[\"accuracy\"])"
      ],
      "metadata": {
        "id": "1OrPv_5Cg2T6"
      },
      "execution_count": 18,
      "outputs": []
    },
    {
      "cell_type": "code",
      "source": [
        "import matplotlib.pyplot as plt\n",
        "\n",
        "# Train the model\n",
        "history = model.fit(X_train, y_train, batch_size=64, epochs=100)\n",
        "\n",
        "# Plot accuracy vs epoch\n",
        "plt.plot(history.history['accuracy'])\n",
        "plt.xlabel('Epoch')\n",
        "plt.ylabel('Accuracy')\n",
        "plt.legend(['Train'], loc='upper left')\n",
        "plt.show()\n"
      ],
      "metadata": {
        "colab": {
          "base_uri": "https://localhost:8080/",
          "height": 1000
        },
        "id": "fG0AbHAJg2NU",
        "outputId": "280357d4-d8f6-410f-8dc3-52830186b15b"
      },
      "execution_count": 23,
      "outputs": [
        {
          "output_type": "stream",
          "name": "stdout",
          "text": [
            "Epoch 1/100\n",
            "49/49 [==============================] - 0s 4ms/step - loss: 0.3731 - accuracy: 0.8290\n",
            "Epoch 2/100\n",
            "49/49 [==============================] - 0s 3ms/step - loss: 0.3732 - accuracy: 0.8303\n",
            "Epoch 3/100\n",
            "49/49 [==============================] - 0s 4ms/step - loss: 0.3721 - accuracy: 0.8345\n",
            "Epoch 4/100\n",
            "49/49 [==============================] - 0s 3ms/step - loss: 0.3728 - accuracy: 0.8310\n",
            "Epoch 5/100\n",
            "49/49 [==============================] - 0s 3ms/step - loss: 0.3725 - accuracy: 0.8326\n",
            "Epoch 6/100\n",
            "49/49 [==============================] - 0s 4ms/step - loss: 0.3712 - accuracy: 0.8329\n",
            "Epoch 7/100\n",
            "49/49 [==============================] - 0s 3ms/step - loss: 0.3714 - accuracy: 0.8342\n",
            "Epoch 8/100\n",
            "49/49 [==============================] - 0s 3ms/step - loss: 0.3702 - accuracy: 0.8342\n",
            "Epoch 9/100\n",
            "49/49 [==============================] - 0s 2ms/step - loss: 0.3704 - accuracy: 0.8339\n",
            "Epoch 10/100\n",
            "49/49 [==============================] - 0s 4ms/step - loss: 0.3707 - accuracy: 0.8332\n",
            "Epoch 11/100\n",
            "49/49 [==============================] - 0s 4ms/step - loss: 0.3703 - accuracy: 0.8368\n",
            "Epoch 12/100\n",
            "49/49 [==============================] - 0s 3ms/step - loss: 0.3697 - accuracy: 0.8352\n",
            "Epoch 13/100\n",
            "49/49 [==============================] - 0s 3ms/step - loss: 0.3693 - accuracy: 0.8368\n",
            "Epoch 14/100\n",
            "49/49 [==============================] - 0s 4ms/step - loss: 0.3689 - accuracy: 0.8380\n",
            "Epoch 15/100\n",
            "49/49 [==============================] - 0s 2ms/step - loss: 0.3692 - accuracy: 0.8377\n",
            "Epoch 16/100\n",
            "49/49 [==============================] - 0s 2ms/step - loss: 0.3685 - accuracy: 0.8355\n",
            "Epoch 17/100\n",
            "49/49 [==============================] - 0s 2ms/step - loss: 0.3685 - accuracy: 0.8339\n",
            "Epoch 18/100\n",
            "49/49 [==============================] - 0s 2ms/step - loss: 0.3685 - accuracy: 0.8371\n",
            "Epoch 19/100\n",
            "49/49 [==============================] - 0s 3ms/step - loss: 0.3676 - accuracy: 0.8361\n",
            "Epoch 20/100\n",
            "49/49 [==============================] - 0s 4ms/step - loss: 0.3678 - accuracy: 0.8345\n",
            "Epoch 21/100\n",
            "49/49 [==============================] - 0s 4ms/step - loss: 0.3670 - accuracy: 0.8358\n",
            "Epoch 22/100\n",
            "49/49 [==============================] - 0s 3ms/step - loss: 0.3668 - accuracy: 0.8364\n",
            "Epoch 23/100\n",
            "49/49 [==============================] - 0s 3ms/step - loss: 0.3665 - accuracy: 0.8348\n",
            "Epoch 24/100\n",
            "49/49 [==============================] - 0s 5ms/step - loss: 0.3668 - accuracy: 0.8384\n",
            "Epoch 25/100\n",
            "49/49 [==============================] - 0s 4ms/step - loss: 0.3672 - accuracy: 0.8355\n",
            "Epoch 26/100\n",
            "49/49 [==============================] - 0s 3ms/step - loss: 0.3656 - accuracy: 0.8368\n",
            "Epoch 27/100\n",
            "49/49 [==============================] - 0s 4ms/step - loss: 0.3654 - accuracy: 0.8361\n",
            "Epoch 28/100\n",
            "49/49 [==============================] - 0s 5ms/step - loss: 0.3657 - accuracy: 0.8390\n",
            "Epoch 29/100\n",
            "49/49 [==============================] - 0s 4ms/step - loss: 0.3647 - accuracy: 0.8393\n",
            "Epoch 30/100\n",
            "49/49 [==============================] - 0s 4ms/step - loss: 0.3640 - accuracy: 0.8380\n",
            "Epoch 31/100\n",
            "49/49 [==============================] - 0s 5ms/step - loss: 0.3640 - accuracy: 0.8380\n",
            "Epoch 32/100\n",
            "49/49 [==============================] - 0s 2ms/step - loss: 0.3638 - accuracy: 0.8403\n",
            "Epoch 33/100\n",
            "49/49 [==============================] - 0s 2ms/step - loss: 0.3634 - accuracy: 0.8393\n",
            "Epoch 34/100\n",
            "49/49 [==============================] - 0s 5ms/step - loss: 0.3635 - accuracy: 0.8403\n",
            "Epoch 35/100\n",
            "49/49 [==============================] - 0s 6ms/step - loss: 0.3631 - accuracy: 0.8400\n",
            "Epoch 36/100\n",
            "49/49 [==============================] - 0s 3ms/step - loss: 0.3626 - accuracy: 0.8390\n",
            "Epoch 37/100\n",
            "49/49 [==============================] - 0s 4ms/step - loss: 0.3626 - accuracy: 0.8406\n",
            "Epoch 38/100\n",
            "49/49 [==============================] - 0s 5ms/step - loss: 0.3628 - accuracy: 0.8371\n",
            "Epoch 39/100\n",
            "49/49 [==============================] - 0s 6ms/step - loss: 0.3620 - accuracy: 0.8374\n",
            "Epoch 40/100\n",
            "49/49 [==============================] - 0s 4ms/step - loss: 0.3621 - accuracy: 0.8425\n",
            "Epoch 41/100\n",
            "49/49 [==============================] - 0s 2ms/step - loss: 0.3615 - accuracy: 0.8406\n",
            "Epoch 42/100\n",
            "49/49 [==============================] - 0s 2ms/step - loss: 0.3618 - accuracy: 0.8361\n",
            "Epoch 43/100\n",
            "49/49 [==============================] - 0s 2ms/step - loss: 0.3618 - accuracy: 0.8416\n",
            "Epoch 44/100\n",
            "49/49 [==============================] - 0s 4ms/step - loss: 0.3604 - accuracy: 0.8400\n",
            "Epoch 45/100\n",
            "49/49 [==============================] - 0s 4ms/step - loss: 0.3604 - accuracy: 0.8393\n",
            "Epoch 46/100\n",
            "49/49 [==============================] - 0s 4ms/step - loss: 0.3603 - accuracy: 0.8425\n",
            "Epoch 47/100\n",
            "49/49 [==============================] - 0s 3ms/step - loss: 0.3599 - accuracy: 0.8416\n",
            "Epoch 48/100\n",
            "49/49 [==============================] - 0s 3ms/step - loss: 0.3596 - accuracy: 0.8409\n",
            "Epoch 49/100\n",
            "49/49 [==============================] - 0s 2ms/step - loss: 0.3601 - accuracy: 0.8406\n",
            "Epoch 50/100\n",
            "49/49 [==============================] - 0s 4ms/step - loss: 0.3590 - accuracy: 0.8400\n",
            "Epoch 51/100\n",
            "49/49 [==============================] - 0s 3ms/step - loss: 0.3598 - accuracy: 0.8397\n",
            "Epoch 52/100\n",
            "49/49 [==============================] - 0s 2ms/step - loss: 0.3586 - accuracy: 0.8409\n",
            "Epoch 53/100\n",
            "49/49 [==============================] - 0s 2ms/step - loss: 0.3589 - accuracy: 0.8416\n",
            "Epoch 54/100\n",
            "49/49 [==============================] - 0s 2ms/step - loss: 0.3585 - accuracy: 0.8409\n",
            "Epoch 55/100\n",
            "49/49 [==============================] - 0s 2ms/step - loss: 0.3611 - accuracy: 0.8355\n",
            "Epoch 56/100\n",
            "49/49 [==============================] - 0s 2ms/step - loss: 0.3581 - accuracy: 0.8403\n",
            "Epoch 57/100\n",
            "49/49 [==============================] - 0s 3ms/step - loss: 0.3584 - accuracy: 0.8416\n",
            "Epoch 58/100\n",
            "49/49 [==============================] - 0s 2ms/step - loss: 0.3570 - accuracy: 0.8445\n",
            "Epoch 59/100\n",
            "49/49 [==============================] - 0s 5ms/step - loss: 0.3572 - accuracy: 0.8413\n",
            "Epoch 60/100\n",
            "49/49 [==============================] - 0s 2ms/step - loss: 0.3569 - accuracy: 0.8435\n",
            "Epoch 61/100\n",
            "49/49 [==============================] - 0s 3ms/step - loss: 0.3563 - accuracy: 0.8409\n",
            "Epoch 62/100\n",
            "49/49 [==============================] - 0s 4ms/step - loss: 0.3564 - accuracy: 0.8425\n",
            "Epoch 63/100\n",
            "49/49 [==============================] - 0s 4ms/step - loss: 0.3561 - accuracy: 0.8413\n",
            "Epoch 64/100\n",
            "49/49 [==============================] - 0s 3ms/step - loss: 0.3560 - accuracy: 0.8413\n",
            "Epoch 65/100\n",
            "49/49 [==============================] - 0s 3ms/step - loss: 0.3557 - accuracy: 0.8432\n",
            "Epoch 66/100\n",
            "49/49 [==============================] - 0s 3ms/step - loss: 0.3563 - accuracy: 0.8432\n",
            "Epoch 67/100\n",
            "49/49 [==============================] - 0s 5ms/step - loss: 0.3550 - accuracy: 0.8390\n",
            "Epoch 68/100\n",
            "49/49 [==============================] - 0s 3ms/step - loss: 0.3555 - accuracy: 0.8429\n",
            "Epoch 69/100\n",
            "49/49 [==============================] - 0s 2ms/step - loss: 0.3545 - accuracy: 0.8435\n",
            "Epoch 70/100\n",
            "49/49 [==============================] - 0s 1ms/step - loss: 0.3544 - accuracy: 0.8419\n",
            "Epoch 71/100\n",
            "49/49 [==============================] - 0s 1ms/step - loss: 0.3553 - accuracy: 0.8406\n",
            "Epoch 72/100\n",
            "49/49 [==============================] - 0s 1ms/step - loss: 0.3550 - accuracy: 0.8422\n",
            "Epoch 73/100\n",
            "49/49 [==============================] - 0s 1ms/step - loss: 0.3535 - accuracy: 0.8470\n",
            "Epoch 74/100\n",
            "49/49 [==============================] - 0s 1ms/step - loss: 0.3542 - accuracy: 0.8413\n",
            "Epoch 75/100\n",
            "49/49 [==============================] - 0s 1ms/step - loss: 0.3528 - accuracy: 0.8464\n",
            "Epoch 76/100\n",
            "49/49 [==============================] - 0s 2ms/step - loss: 0.3528 - accuracy: 0.8451\n",
            "Epoch 77/100\n",
            "49/49 [==============================] - 0s 1ms/step - loss: 0.3527 - accuracy: 0.8454\n",
            "Epoch 78/100\n",
            "49/49 [==============================] - 0s 1ms/step - loss: 0.3530 - accuracy: 0.8464\n",
            "Epoch 79/100\n",
            "49/49 [==============================] - 0s 1ms/step - loss: 0.3531 - accuracy: 0.8429\n",
            "Epoch 80/100\n",
            "49/49 [==============================] - 0s 1ms/step - loss: 0.3524 - accuracy: 0.8438\n",
            "Epoch 81/100\n",
            "49/49 [==============================] - 0s 1ms/step - loss: 0.3526 - accuracy: 0.8458\n",
            "Epoch 82/100\n",
            "49/49 [==============================] - 0s 1ms/step - loss: 0.3516 - accuracy: 0.8442\n",
            "Epoch 83/100\n",
            "49/49 [==============================] - 0s 1ms/step - loss: 0.3513 - accuracy: 0.8432\n",
            "Epoch 84/100\n",
            "49/49 [==============================] - 0s 1ms/step - loss: 0.3521 - accuracy: 0.8442\n",
            "Epoch 85/100\n",
            "49/49 [==============================] - 0s 1ms/step - loss: 0.3517 - accuracy: 0.8448\n",
            "Epoch 86/100\n",
            "49/49 [==============================] - 0s 1ms/step - loss: 0.3507 - accuracy: 0.8438\n",
            "Epoch 87/100\n",
            "49/49 [==============================] - 0s 1ms/step - loss: 0.3510 - accuracy: 0.8451\n",
            "Epoch 88/100\n",
            "49/49 [==============================] - 0s 1ms/step - loss: 0.3503 - accuracy: 0.8442\n",
            "Epoch 89/100\n",
            "49/49 [==============================] - 0s 1ms/step - loss: 0.3518 - accuracy: 0.8445\n",
            "Epoch 90/100\n",
            "49/49 [==============================] - 0s 1ms/step - loss: 0.3498 - accuracy: 0.8432\n",
            "Epoch 91/100\n",
            "49/49 [==============================] - 0s 2ms/step - loss: 0.3503 - accuracy: 0.8454\n",
            "Epoch 92/100\n",
            "49/49 [==============================] - 0s 1ms/step - loss: 0.3494 - accuracy: 0.8438\n",
            "Epoch 93/100\n",
            "49/49 [==============================] - 0s 1ms/step - loss: 0.3495 - accuracy: 0.8467\n",
            "Epoch 94/100\n",
            "49/49 [==============================] - 0s 1ms/step - loss: 0.3497 - accuracy: 0.8442\n",
            "Epoch 95/100\n",
            "49/49 [==============================] - 0s 1ms/step - loss: 0.3489 - accuracy: 0.8438\n",
            "Epoch 96/100\n",
            "49/49 [==============================] - 0s 1ms/step - loss: 0.3491 - accuracy: 0.8425\n",
            "Epoch 97/100\n",
            "49/49 [==============================] - 0s 1ms/step - loss: 0.3481 - accuracy: 0.8432\n",
            "Epoch 98/100\n",
            "49/49 [==============================] - 0s 1ms/step - loss: 0.3480 - accuracy: 0.8451\n",
            "Epoch 99/100\n",
            "49/49 [==============================] - 0s 1ms/step - loss: 0.3483 - accuracy: 0.8432\n",
            "Epoch 100/100\n",
            "49/49 [==============================] - 0s 1ms/step - loss: 0.3482 - accuracy: 0.8425\n"
          ]
        },
        {
          "output_type": "display_data",
          "data": {
            "text/plain": [
              "<Figure size 640x480 with 1 Axes>"
            ],
            "image/png": "[encoded data removed]"
          },
          "metadata": {}
        }
      ]
    },
    {
      "cell_type": "code",
      "source": [
        "# Predict the X_test results\n",
        "y_pred = model.predict(X_test)"
      ],
      "metadata": {
        "colab": {
          "base_uri": "https://localhost:8080/"
        },
        "id": "lxplVVXNg5-1",
        "outputId": "60edb735-b5b2-461c-b19c-558671d55c79"
      },
      "execution_count": 24,
      "outputs": [
        {
          "output_type": "stream",
          "name": "stdout",
          "text": [
            "42/42 [==============================] - 0s 1ms/step\n"
          ]
        }
      ]
    },
    {
      "cell_type": "code",
      "source": [
        "y_pred = (y_pred > 0.5)\n",
        "y_pred"
      ],
      "metadata": {
        "colab": {
          "base_uri": "https://localhost:8080/"
        },
        "id": "Voo8kxr7g57Y",
        "outputId": "2a30e892-9b74-4ec0-94dd-bf477c380b00"
      },
      "execution_count": 25,
      "outputs": [
        {
          "output_type": "execute_result",
          "data": {
            "text/plain": [
              "array([[ True],\n",
              "       [ True],\n",
              "       [False],\n",
              "       ...,\n",
              "       [ True],\n",
              "       [ True],\n",
              "       [False]])"
            ]
          },
          "metadata": {},
          "execution_count": 25
        }
      ]
    },
    {
      "cell_type": "code",
      "source": [
        "# Check the accuracy score for final model\n",
        "from sklearn.metrics import accuracy_score\n",
        "print(accuracy_score(y_test,y_pred))"
      ],
      "metadata": {
        "colab": {
          "base_uri": "https://localhost:8080/"
        },
        "id": "F_Mghe_vg9_o",
        "outputId": "f641ca99-09fe-41de-f61a-b017f852921b"
      },
      "execution_count": 26,
      "outputs": [
        {
          "output_type": "stream",
          "name": "stdout",
          "text": [
            "0.7743628185907047\n"
          ]
        }
      ]
    }
  ]
}